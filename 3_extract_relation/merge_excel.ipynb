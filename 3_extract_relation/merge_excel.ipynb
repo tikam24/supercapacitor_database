{
 "cells": [
  {
   "cell_type": "code",
   "execution_count": 1,
   "id": "31a30ea3-23a0-4159-88b0-0f9d8555dd66",
   "metadata": {},
   "outputs": [],
   "source": [
    "# importing the required modules\n",
    "import glob\n",
    "import pandas as pd"
   ]
  },
  {
   "cell_type": "code",
   "execution_count": 2,
   "id": "f198dc50-ef1d-4df7-841a-6a3540341556",
   "metadata": {},
   "outputs": [
    {
     "name": "stdout",
     "output_type": "stream",
     "text": [
      "['battery_bert_anode_1.xlsx', 'battery_bert_anode_2.xlsx']\n"
     ]
    }
   ],
   "source": [
    "# List all Excel files in a directory\n",
    "excel_files = glob.glob(\"*.xlsx\")  # Change \"*.xlsx\" to match the file extension of your Excel files\n",
    "\n",
    "# Create an empty DataFrame to store the merged data\n",
    "merged_data = pd.DataFrame()\n",
    "print(excel_files)"
   ]
  },
  {
   "cell_type": "code",
   "execution_count": 3,
   "id": "eb7f8e46-d4ea-458d-8e84-ca2474828326",
   "metadata": {},
   "outputs": [],
   "source": [
    "# Loop through each Excel file and append its data to the merged_data DataFrame\n",
    "for file in excel_files:\n",
    "    df = pd.read_excel(file)  # Read the Excel file into a DataFrame\n",
    "    merged_data = merged_data._append(df, ignore_index=True)  \n",
    "    # Append the data to the merged_data DataFrame\n",
    "\n",
    "# Save the merged data to a new Excel file\n",
    "merged_data.to_excel(\"battery_bert_anode.xlsx\", index=False)"
   ]
  },
  {
   "cell_type": "code",
   "execution_count": null,
   "id": "b1931c97-fd99-4c24-b9a2-30ae2da23b10",
   "metadata": {},
   "outputs": [],
   "source": []
  },
  {
   "cell_type": "code",
   "execution_count": null,
   "id": "b36f235e-f821-410f-8aa2-5a7926867a5f",
   "metadata": {},
   "outputs": [],
   "source": []
  }
 ],
 "metadata": {
  "kernelspec": {
   "display_name": "Python 3 (ipykernel)",
   "language": "python",
   "name": "python3"
  },
  "language_info": {
   "codemirror_mode": {
    "name": "ipython",
    "version": 3
   },
   "file_extension": ".py",
   "mimetype": "text/x-python",
   "name": "python",
   "nbconvert_exporter": "python",
   "pygments_lexer": "ipython3",
   "version": "3.10.10"
  }
 },
 "nbformat": 4,
 "nbformat_minor": 5
}
