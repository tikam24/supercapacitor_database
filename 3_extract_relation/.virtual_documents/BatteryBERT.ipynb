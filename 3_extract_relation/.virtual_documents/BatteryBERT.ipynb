


import os
import pandas as pd
import matplotlib.pyplot as plt
import numpy as np


# Importing the transfromers and BERT model for NLP task
from transformers import AutoModelForQuestionAnswering, AutoTokenizer, pipeline
from transformers import AutoModelForSequenceClassification, AutoTokenizer, pipeline
qa_model = "batterydata/batterybert-cased-squad-v1" # type the BERT model name which has to be used





# Path to the abstract folder
folder_path = r"C:\Users\Tikam Soni\@SC_DB_Codes\abstract"  # Replace with the path to your folder

# Get a list of all files in the folder
file_list = os.listdir(folder_path)


# Initializing the dataframe
df = pd.DataFrame()





nlp = pipeline('question-answering', model=qa_model, tokenizer=qa_model)


for file_name in file_list:
    if file_name.endswith(".txt"):  # Process only text files
        file_path = os.path.join(folder_path, file_name)  # Get the full file path
        with open(file_path, "r", encoding="utf8") as file:
            content = file.read()
            QA_electrolyte = {'question': 'What is the electrolyte material?','context': content}
            
    res1 = nlp(QA_electrolyte)
    res1['electrolyte'] = res1.pop('answer')
    res1.__setitem__('EID', file_name[:-4])
    df = df._append(res1, ignore_index=True)
    print(res1)

df.head()
# Save the DataFrame to Excel
df.to_excel('battery_bert_electrolyte.xlsx', index=False, header=True)





for file_name in file_list:
    if file_name.endswith(".txt"):  # Process only text files
        file_path = os.path.join(folder_path, file_name)  # Get the full file path
        with open(file_path, "r", encoding="utf8") as file:
            content = file.read()
            QA_cathode = {'question': 'What is the cathode or negative electrode material?','context': content}
    res3 = nlp(QA_cathode)
    res3['cathode/negative electrode'] = res3.pop('answer')
    res3.__setitem__('EID', file_name[:-4])
    df = df._append(res1, ignore_index=True)
    print(res1)

df.head()
# Save the DataFrame to Excel
df.to_excel('battery_bert_cathode.xlsx', index=False, header=True)





for file_name in file_list:
    if file_name.endswith(".txt"):  # Process only text files
        file_path = os.path.join(folder_path, file_name)  # Get the full file path
        with open(file_path, "r", encoding="utf8") as file:
            content = file.read()
            QA_anode = {'question': 'What is the anode or positive electrode material?','context': content}
            
    res2 = nlp(QA_anode)
    res2['anode/positive electrode'] = res2.pop('answer')
    res2.__setitem__('EID', file_name[:-4])
    df = df._append(res2, ignore_index=True)
    print(res2)

df.head()
# Save the DataFrame to Excel
df.to_excel('battery_bert_anode.xlsx', index=False, header=True)





# DataFrame to read the electrolyte data from excel file
df = pd.read_excel('battery_bert.xlsx')

# Filter the 'values' column for values above and below 0.90
filtered_df = df['score'] > 0.90

# Display the filtered DataFrame
print(filtered_df)


# Define the interval size
interval_size = 0.05

# Create a histogram with intervals of 0.1
plt.figure(figsize=(8, 6))
plt.hist(df['score'], bins=[i/10 for i in range(11)], edgecolor='k', density=True, alpha=0.6)
plt.xlabel('score')
plt.ylabel('Frequency')
plt.title('Frequency Distribution of confidence score (Interval: 0.1)')
plt.grid(True)
plt.xticks([i/10 for i in range(11)])  # Set the x-axis ticks at intervals of 0.1
plt.show()



