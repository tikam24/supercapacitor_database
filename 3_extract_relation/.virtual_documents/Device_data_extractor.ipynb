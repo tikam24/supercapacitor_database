from batterybert.apps import DocClassifier


# Model name to be changed after published
# Create a binary classifier


model_name = "batterydata/batterybert-cased-squad-v1"
sample_text = "Amorphous hydrous ruthenium oxide/active carbon (RuO2·xH2O/C) powders were prepared by a simple procedure based on the sol-gel process. The precursor was obtained by mixing an aqueous solution of RuCl3 and active carbon powders at pH 7. When annealing the precursor at 150°C for 7-9.5 h, the RuO2·xH2O/C powders obtained had the highest specific capacitance. Transmission electron microscopy photographs showed that the RuO2·xH2O primary particles were about 10-15 nm diam. They adhered to form large porous secondary particles. A modeling capacitor was made with electrodes comprised of RuO2·xH2O/C powder and 30% H2SO4 electrolyte. At 10-20 wt % ruthenium in the electrodes, the specific capacitance remained almost unchanged at 243 F/g, which included both the electric double-layer capacitance associated with the high surface area of active carbon and redox capacitance associated with ruthenium oxide. About 52% of the RuO2 in the RuO2·xH2O/C powders was utilized. More than 50% of the capacitance in the electrode with 12.1 % ruthenium was due to the formation of the double layer, but for the electrode with 21.1 % ruthenium, the capacitance attributed to the double layer dropped to 16.8% of the total capacitance. When the electrodes contained ruthenium from 35 wt % to pure RuO2·xH2O, the specific capacitance increased from 350 to 715 F/g. The specific capacitance was proportional to the mass of the ruthenium in the electrodes. This enabled the specific capacitance to be controlled by changing the mass ratio of RuCl3 to active carbon in the preparation. Physical properties of the material and electrochemical characteristics of electrodes are also reported along with the capacitor performance. © 2001 The Electrochemical Society. All rights reserved."
classifier = DocClassifier(model_name)


# 0 for non-battery text, 1 for battery text
category = classifier.classify(sample_text)
print(category)


from transformers import pipeline
unmasker = pipeline('fill-mask', model='batterydata/batterybert-cased')
unmasker("Hello I'm a <mask> model.")



