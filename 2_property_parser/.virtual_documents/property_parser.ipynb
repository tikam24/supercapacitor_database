import properties as pr
import pandas as pd
import os
import json
import numpy as np
import shutil
import re


patterns = {"specific_capacitance" : 'r"(\d+(?:\.\d+)?)\s*(\bF\s*(?:g−1|\/g|\/cm2|cm-2|cm-3)\b)"',
            "surface_area" : 'r"(\d+(?:\.\d+)?)\s*(\b(?:m2/g|cm2/g|m2/cm3|m2 g-1)\b)"',
            "energy_density" : 'r"(\d+(?:\.\d+)?)\s*(\b(?:J/m3|Wh/g|Wh/kg|mWh/cm3|mWh/kg)\b)"',            
            "power_density" : 'r"(\d+(?:\.\d+)?)\s*(\b(?:W/kg|W/L|W/m3|mW/g|kW/kg)\b)"',
            "voltage" : 'r"(\d+(?:\.\d+)?)\s*(\b(?:V|volts|kilovolt|kilovolts|KV|kV)\b)"',
            "current_density" : 'r"(\d+(?:\.\d+)?)\s*(\b(?:A/m2|μA/cm2|A/cm2|mA/cm2)\b)"',
            "cycles" : 'r"(\d+(?:\.\d+)?)\s*(\b(?:cycle|cycles)\b)"'}


def property_parser_value(abstract, i):
    """ Do a regex search to find the property value and its unit mentioned in the 
    abstract. """
    
    value = []
    pattern = list(patterns.values())[i]
    matches = re.findall(pattern, abstract)
    
    for match in matches:
        value.append(match[0])
    return value

def property_parser_unit(abstract, i):
    """ Do a regex search to find the property value and its unit mentioned in the 
    abstract. """
    
    unit = []
    pattern = list(patterns.values())[i]
    matches = re.findall(pattern, abstract)
    
    for match in matches:
        unit.append(match[1])
    return unit


def parser_fun(file_path):
        
    with open(file_path, "r", encoding="utf8") as file:
        content = file.read()
        sr = pd.Series({'EID': file_path[:-4], 
                        'Specific Capacitance values' : property_parser_value(content, 0),
                        'Specific Capacitance units' : property_parser_unit(content, 0),
                        'Surface Area values' : property_parser_value(content, 1),
                        'Surface Area units' : property_parser_unit(content, 1),
                        'Energy Density values' : property_parser_value(content, 2),
                        'Energy Density units' : property_parser_unit(content, 2),
                        'Power Density values' : property_parser_value(content, 3),
                        'Power Density units' : property_parser_unit(content, 3),
                        'Voltage values' : property_parser_value(content, 4),
                        'Voltage units' : property_parser_unit(content, 4),
                        'Current Density values' : property_parser_value(content, 5),
                        'Current Density units' : property_parser_unit(content, 5),
                        'Cycle values' : property_parser_value(content, 6),
                        'Cycle units' : property_parser_unit(content, 6)})          
                 
        file.close()  # Close the file before moving    
        return sr


# Path to the abstract folder
folder_path = r"C:\Users\Tikam Soni\@SC_DB_Codes\technical_validation"  # Replace with the path to your folder


# Get a list of all files in the folder
file_list = os.listdir(folder_path)


# Data Frame to store the property values extracted in respective property columns
df = pd.DataFrame(columns=['EID','Specific Capacitance values','Specific Capacitance units', 'Surface Area values'
                                'Surface Area units','Energy Density values','Energy Density units', 'Power Density values',
                                'Power Density units','Voltage values', 'Voltage units','Current Density values',
                                'Current Density units','Cycles values','Cycles units'])

# Iterate over each file in the folder
for file_name in file_list:
    if file_name.endswith(".txt"):  # Process only text files
        file_path = os.path.join(folder_path, file_name)  # Get the full file path
        sr = parser_fun(file_path)
        df = pd.concat([df, sr.to_frame().T], ignore_index=True)

# save dataframe to excel
df.to_excel('properties_new.xlsx', index=False)


print(df)
# df.to_excel('properties_new.xlsx', index=False)


abstract = "Amorphous hydrous ruthenium oxide/active carbon (RuO2·xH2O/C) powders were prepared by a simple procedure based on the sol-gel process. The precursor was obtained by mixing 200 F/g an aqueous solution of RuCl3 and active carbon powders at pH 7. When annealing the precursor at 150°C for 7-9.5 h, the RuO2·xH2O/C powders obtained had the highest specific capacitance. Transmission electron microscopy photographs showed that the RuO2·xH2O primary particles were about 10-15 nm diam. They adhered to form large porous secondary particles. A modeling capacitor was made with electrodes comprised of RuO2·xH2O/C powder and 30% H2SO4 electrolyte. At 10-20 wt % ruthenium in the electrodes, the specific capacitance 20 F/cm2 remained almost unchanged at 243 F/g, which included both the electric double-layer capacitance associated with the high surface area of active carbon and redox capacitance associated with ruthenium oxide. About 52% of the RuO2 in the RuO2·xH2O/C powders was utilized. More than 50% of the capacitance in the electrode with 12.1 % ruthenium was due to the formation of the double layer, but for the electrode with 21.1 % ruthenium, the capacitance attributed to the double layer dropped to 16.8% of the total capacitance. When the electrodes contained ruthenium from 35 wt % to pure RuO2·xH2O, the specific capacitance increased from 350 to 715 F/g. The specific capacitance was proportional to the mass of the ruthenium in the electrodes. This enabled the specific capacitance to be controlled by changing the mass ratio of RuCl3 to active carbon in the preparation. Physical properties of the material and electrochemical characteristics of electrodes are also reported along with the capacitor performance. © 2001 The Electrochemical Society. All rights reserved."


# value = []
pattern = list(patterns.values())[2]
print(pattern)


matches = re.findall(pattern, abstract)
# value = []
# for match in matches:
#     value.append(match)    
print(matches)



