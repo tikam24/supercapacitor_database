import pandas as pd
import matplotlib.pyplot as plt
import ast


df = pd.read_excel("properties.xlsx")
df.shape


df.head()


df.info()



