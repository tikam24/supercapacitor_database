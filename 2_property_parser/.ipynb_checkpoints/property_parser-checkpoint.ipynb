{
 "cells": [
  {
   "cell_type": "code",
   "execution_count": 40,
   "id": "b24ef837-ddff-4e9a-ae10-063e30cd8f7a",
   "metadata": {},
   "outputs": [],
   "source": [
    "import properties as pr\n",
    "import pandas as pd\n",
    "import os\n",
    "import json\n",
    "import numpy as np\n",
    "import shutil\n",
    "import re"
   ]
  },
  {
   "cell_type": "code",
   "execution_count": 2,
   "id": "e016df5f-0cd0-46e9-b19d-e9fb1540ae0d",
   "metadata": {},
   "outputs": [],
   "source": [
    "patterns = {\"specific_capacitance\" : 'r\"(\\d+(?:\\.\\d+)?)\\s*(\\bF\\s*(?:g−1|\\/g|\\/cm2|cm-2|cm-3)\\b)\"',\n",
    "            \"surface_area\" : 'r\"(\\d+(?:\\.\\d+)?)\\s*(\\b(?:m2/g|cm2/g|m2/cm3|m2 g-1)\\b)\"',\n",
    "            \"energy_density\" : 'r\"(\\d+(?:\\.\\d+)?)\\s*(\\b(?:J/m3|Wh/g|Wh/kg|mWh/cm3|mWh/kg)\\b)\"',            \n",
    "            \"power_density\" : 'r\"(\\d+(?:\\.\\d+)?)\\s*(\\b(?:W/kg|W/L|W/m3|mW/g|kW/kg)\\b)\"',\n",
    "            \"voltage\" : 'r\"(\\d+(?:\\.\\d+)?)\\s*(\\b(?:V|volts|kilovolt|kilovolts|KV|kV)\\b)\"',\n",
    "            \"current_density\" : 'r\"(\\d+(?:\\.\\d+)?)\\s*(\\b(?:A/m2|μA/cm2|A/cm2|mA/cm2)\\b)\"',\n",
    "            \"cycles\" : 'r\"(\\d+(?:\\.\\d+)?)\\s*(\\b(?:cycle|cycles)\\b)\"'}"
   ]
  },
  {
   "cell_type": "code",
   "execution_count": 3,
   "id": "b3f24a7e-2651-496b-88ee-d13e127c76a8",
   "metadata": {},
   "outputs": [],
   "source": [
    "def property_parser_value(abstract, i):\n",
    "    \"\"\" Do a regex search to find the property value and its unit mentioned in the \n",
    "    abstract. \"\"\"\n",
    "    \n",
    "    value = []\n",
    "    pattern = list(patterns.values())[i]\n",
    "    matches = re.findall(pattern, abstract)\n",
    "    \n",
    "    for match in matches:\n",
    "        value.append(match[0])\n",
    "    return value\n",
    "\n",
    "def property_parser_unit(abstract, i):\n",
    "    \"\"\" Do a regex search to find the property value and its unit mentioned in the \n",
    "    abstract. \"\"\"\n",
    "    \n",
    "    unit = []\n",
    "    pattern = list(patterns.values())[i]\n",
    "    matches = re.findall(pattern, abstract)\n",
    "    \n",
    "    for match in matches:\n",
    "        unit.append(match[1])\n",
    "    return unit"
   ]
  },
  {
   "cell_type": "code",
   "execution_count": 4,
   "id": "0cde1343-0e20-4177-90b8-194102e3f7b1",
   "metadata": {},
   "outputs": [],
   "source": [
    "def parser_fun(file_path):\n",
    "        \n",
    "    with open(file_path, \"r\", encoding=\"utf8\") as file:\n",
    "        content = file.read()\n",
    "        sr = pd.Series({'EID': file_path[:-4], \n",
    "                        'Specific Capacitance values' : property_parser_value(content, 0),\n",
    "                        'Specific Capacitance units' : property_parser_unit(content, 0),\n",
    "                        'Surface Area values' : property_parser_value(content, 1),\n",
    "                        'Surface Area units' : property_parser_unit(content, 1),\n",
    "                        'Energy Density values' : property_parser_value(content, 2),\n",
    "                        'Energy Density units' : property_parser_unit(content, 2),\n",
    "                        'Power Density values' : property_parser_value(content, 3),\n",
    "                        'Power Density units' : property_parser_unit(content, 3),\n",
    "                        'Voltage values' : property_parser_value(content, 4),\n",
    "                        'Voltage units' : property_parser_unit(content, 4),\n",
    "                        'Current Density values' : property_parser_value(content, 5),\n",
    "                        'Current Density units' : property_parser_unit(content, 5),\n",
    "                        'Cycle values' : property_parser_value(content, 6),\n",
    "                        'Cycle units' : property_parser_unit(content, 6)})          \n",
    "                 \n",
    "        file.close()  # Close the file before moving    \n",
    "        return sr"
   ]
  },
  {
   "cell_type": "code",
   "execution_count": 5,
   "id": "15596b5b-1fad-4b48-ae42-6316a545b886",
   "metadata": {},
   "outputs": [],
   "source": [
    "# Path to the abstract folder\n",
    "folder_path = r\"C:\\Users\\Tikam Soni\\@SC_DB_Codes\\technical_validation\"  # Replace with the path to your folder"
   ]
  },
  {
   "cell_type": "code",
   "execution_count": 6,
   "id": "cbc71394-67ef-46fa-90ba-a0f79271d0b1",
   "metadata": {},
   "outputs": [],
   "source": [
    "# Get a list of all files in the folder\n",
    "file_list = os.listdir(folder_path)"
   ]
  },
  {
   "cell_type": "code",
   "execution_count": 7,
   "id": "02d05f49-0ddb-4d26-83bd-de66d7dea7b6",
   "metadata": {},
   "outputs": [],
   "source": [
    "# Data Frame to store the property values extracted in respective property columns\n",
    "df = pd.DataFrame(columns=['EID','Specific Capacitance values','Specific Capacitance units', 'Surface Area values'\n",
    "                                'Surface Area units','Energy Density values','Energy Density units', 'Power Density values',\n",
    "                                'Power Density units','Voltage values', 'Voltage units','Current Density values',\n",
    "                                'Current Density units','Cycles values','Cycles units'])\n",
    "\n",
    "# Iterate over each file in the folder\n",
    "for file_name in file_list:\n",
    "    if file_name.endswith(\".txt\"):  # Process only text files\n",
    "        file_path = os.path.join(folder_path, file_name)  # Get the full file path\n",
    "        sr = parser_fun(file_path)\n",
    "        df = pd.concat([df, sr.to_frame().T], ignore_index=True)\n",
    "\n",
    "# save dataframe to excel\n",
    "df.to_excel('properties_new.xlsx', index=False)"
   ]
  },
  {
   "cell_type": "code",
   "execution_count": 8,
   "id": "2209bc77-bcef-4f8c-806e-6d46680e0fd6",
   "metadata": {},
   "outputs": [
    {
     "name": "stdout",
     "output_type": "stream",
     "text": [
      "                                                   EID   \n",
      "0    C:\\Users\\Tikam Soni\\@SC_DB_Codes\\technical_val...  \\\n",
      "1    C:\\Users\\Tikam Soni\\@SC_DB_Codes\\technical_val...   \n",
      "2    C:\\Users\\Tikam Soni\\@SC_DB_Codes\\technical_val...   \n",
      "3    C:\\Users\\Tikam Soni\\@SC_DB_Codes\\technical_val...   \n",
      "4    C:\\Users\\Tikam Soni\\@SC_DB_Codes\\technical_val...   \n",
      "..                                                 ...   \n",
      "245  C:\\Users\\Tikam Soni\\@SC_DB_Codes\\technical_val...   \n",
      "246  C:\\Users\\Tikam Soni\\@SC_DB_Codes\\technical_val...   \n",
      "247  C:\\Users\\Tikam Soni\\@SC_DB_Codes\\technical_val...   \n",
      "248  C:\\Users\\Tikam Soni\\@SC_DB_Codes\\technical_val...   \n",
      "249  C:\\Users\\Tikam Soni\\@SC_DB_Codes\\technical_val...   \n",
      "\n",
      "    Specific Capacitance values Specific Capacitance units   \n",
      "0                            []                         []  \\\n",
      "1                            []                         []   \n",
      "2                            []                         []   \n",
      "3                            []                         []   \n",
      "4                            []                         []   \n",
      "..                          ...                        ...   \n",
      "245                          []                         []   \n",
      "246                          []                         []   \n",
      "247                          []                         []   \n",
      "248                          []                         []   \n",
      "249                          []                         []   \n",
      "\n",
      "    Surface Area valuesSurface Area units Energy Density values   \n",
      "0                                     NaN                    []  \\\n",
      "1                                     NaN                    []   \n",
      "2                                     NaN                    []   \n",
      "3                                     NaN                    []   \n",
      "4                                     NaN                    []   \n",
      "..                                    ...                   ...   \n",
      "245                                   NaN                    []   \n",
      "246                                   NaN                    []   \n",
      "247                                   NaN                    []   \n",
      "248                                   NaN                    []   \n",
      "249                                   NaN                    []   \n",
      "\n",
      "    Energy Density units Power Density values Power Density units   \n",
      "0                     []                   []                  []  \\\n",
      "1                     []                   []                  []   \n",
      "2                     []                   []                  []   \n",
      "3                     []                   []                  []   \n",
      "4                     []                   []                  []   \n",
      "..                   ...                  ...                 ...   \n",
      "245                   []                   []                  []   \n",
      "246                   []                   []                  []   \n",
      "247                   []                   []                  []   \n",
      "248                   []                   []                  []   \n",
      "249                   []                   []                  []   \n",
      "\n",
      "    Voltage values Voltage units Current Density values Current Density units   \n",
      "0               []            []                     []                    []  \\\n",
      "1               []            []                     []                    []   \n",
      "2               []            []                     []                    []   \n",
      "3               []            []                     []                    []   \n",
      "4               []            []                     []                    []   \n",
      "..             ...           ...                    ...                   ...   \n",
      "245             []            []                     []                    []   \n",
      "246             []            []                     []                    []   \n",
      "247             []            []                     []                    []   \n",
      "248             []            []                     []                    []   \n",
      "249             []            []                     []                    []   \n",
      "\n",
      "    Cycles values Cycles units Surface Area values Surface Area units   \n",
      "0             NaN          NaN                  []                 []  \\\n",
      "1             NaN          NaN                  []                 []   \n",
      "2             NaN          NaN                  []                 []   \n",
      "3             NaN          NaN                  []                 []   \n",
      "4             NaN          NaN                  []                 []   \n",
      "..            ...          ...                 ...                ...   \n",
      "245           NaN          NaN                  []                 []   \n",
      "246           NaN          NaN                  []                 []   \n",
      "247           NaN          NaN                  []                 []   \n",
      "248           NaN          NaN                  []                 []   \n",
      "249           NaN          NaN                  []                 []   \n",
      "\n",
      "    Cycle values Cycle units  \n",
      "0             []          []  \n",
      "1             []          []  \n",
      "2             []          []  \n",
      "3             []          []  \n",
      "4             []          []  \n",
      "..           ...         ...  \n",
      "245           []          []  \n",
      "246           []          []  \n",
      "247           []          []  \n",
      "248           []          []  \n",
      "249           []          []  \n",
      "\n",
      "[250 rows x 18 columns]\n"
     ]
    }
   ],
   "source": [
    "print(df)\n",
    "# df.to_excel('properties_new.xlsx', index=False)"
   ]
  },
  {
   "cell_type": "code",
   "execution_count": 44,
   "id": "fb0c011a-91e9-4c1d-a1f5-617836494d27",
   "metadata": {},
   "outputs": [],
   "source": [
    "abstract = \"Amorphous hydrous ruthenium oxide/active carbon (RuO2·xH2O/C) powders were prepared by a simple procedure based on the sol-gel process. The precursor was obtained by mixing 200 F/g an aqueous solution of RuCl3 and active carbon powders at pH 7. When annealing the precursor at 150°C for 7-9.5 h, the RuO2·xH2O/C powders obtained had the highest specific capacitance. Transmission electron microscopy photographs showed that the RuO2·xH2O primary particles were about 10-15 nm diam. They adhered to form large porous secondary particles. A modeling capacitor was made with electrodes comprised of RuO2·xH2O/C powder and 30% H2SO4 electrolyte. At 10-20 wt % ruthenium in the electrodes, the specific capacitance 20 F/cm2 remained almost unchanged at 243 F/g, which included both the electric double-layer capacitance associated with the high surface area of active carbon and redox capacitance associated with ruthenium oxide. About 52% of the RuO2 in the RuO2·xH2O/C powders was utilized. More than 50% of the capacitance in the electrode with 12.1 % ruthenium was due to the formation of the double layer, but for the electrode with 21.1 % ruthenium, the capacitance attributed to the double layer dropped to 16.8% of the total capacitance. When the electrodes contained ruthenium from 35 wt % to pure RuO2·xH2O, the specific capacitance increased from 350 to 715 F/g. The specific capacitance was proportional to the mass of the ruthenium in the electrodes. This enabled the specific capacitance to be controlled by changing the mass ratio of RuCl3 to active carbon in the preparation. Physical properties of the material and electrochemical characteristics of electrodes are also reported along with the capacitor performance. © 2001 The Electrochemical Society. All rights reserved.\""
   ]
  },
  {
   "cell_type": "code",
   "execution_count": 49,
   "id": "ff90137c-07fa-4e19-8112-469ee7b121f1",
   "metadata": {},
   "outputs": [
    {
     "name": "stdout",
     "output_type": "stream",
     "text": [
      "r\"(\\d+(?:\\.\\d+)?)\\s*(?:J/m3|Wh/g|Wh/kg|mWh/cm3|mWh/kg)\"\n"
     ]
    }
   ],
   "source": [
    "# value = []\n",
    "pattern = list(patterns.values())[2]\n",
    "print(pattern)"
   ]
  },
  {
   "cell_type": "code",
   "execution_count": 50,
   "id": "6588f66e-ca87-4a75-921a-120a6780ecec",
   "metadata": {},
   "outputs": [
    {
     "name": "stdout",
     "output_type": "stream",
     "text": [
      "[]\n"
     ]
    }
   ],
   "source": [
    "matches = re.findall(pattern, abstract)\n",
    "# value = []\n",
    "# for match in matches:\n",
    "#     value.append(match)    \n",
    "print(matches)"
   ]
  },
  {
   "cell_type": "code",
   "execution_count": null,
   "id": "2ba3cb4a-f0cb-404d-a719-955a465d6b8b",
   "metadata": {},
   "outputs": [],
   "source": []
  }
 ],
 "metadata": {
  "kernelspec": {
   "display_name": "Python 3 (ipykernel)",
   "language": "python",
   "name": "python3"
  },
  "language_info": {
   "codemirror_mode": {
    "name": "ipython",
    "version": 3
   },
   "file_extension": ".py",
   "mimetype": "text/x-python",
   "name": "python",
   "nbconvert_exporter": "python",
   "pygments_lexer": "ipython3",
   "version": "3.10.10"
  }
 },
 "nbformat": 4,
 "nbformat_minor": 5
}
