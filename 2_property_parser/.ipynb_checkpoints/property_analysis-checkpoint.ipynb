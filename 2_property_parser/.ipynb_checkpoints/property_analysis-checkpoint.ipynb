{
 "cells": [
  {
   "cell_type": "code",
   "execution_count": 1,
   "id": "087d5195-c17d-497a-81b6-0c78b46774a2",
   "metadata": {},
   "outputs": [],
   "source": [
    "import pandas as pd\n",
    "import matplotlib.pyplot as plt\n",
    "import ast"
   ]
  },
  {
   "cell_type": "code",
   "execution_count": 2,
   "id": "9a61b638-65b1-494c-8b13-fe6f6a4f8f59",
   "metadata": {},
   "outputs": [
    {
     "data": {
      "text/plain": [
       "(52185, 8)"
      ]
     },
     "execution_count": 2,
     "metadata": {},
     "output_type": "execute_result"
    }
   ],
   "source": [
    "df = pd.read_excel(\"properties.xlsx\")\n",
    "df.shape"
   ]
  },
  {
   "cell_type": "code",
   "execution_count": 3,
   "id": "52318f50-b834-490d-a6f3-8017f91163f6",
   "metadata": {},
   "outputs": [
    {
     "data": {
      "text/html": [
       "<div>\n",
       "<style scoped>\n",
       "    .dataframe tbody tr th:only-of-type {\n",
       "        vertical-align: middle;\n",
       "    }\n",
       "\n",
       "    .dataframe tbody tr th {\n",
       "        vertical-align: top;\n",
       "    }\n",
       "\n",
       "    .dataframe thead th {\n",
       "        text-align: right;\n",
       "    }\n",
       "</style>\n",
       "<table border=\"1\" class=\"dataframe\">\n",
       "  <thead>\n",
       "    <tr style=\"text-align: right;\">\n",
       "      <th></th>\n",
       "      <th>EID</th>\n",
       "      <th>Specific Capacitance</th>\n",
       "      <th>Surface Area</th>\n",
       "      <th>Energy Density</th>\n",
       "      <th>Power Density</th>\n",
       "      <th>Voltage</th>\n",
       "      <th>Current Density</th>\n",
       "      <th>Cycles</th>\n",
       "    </tr>\n",
       "  </thead>\n",
       "  <tbody>\n",
       "    <tr>\n",
       "      <th>0</th>\n",
       "      <td>2-s2.0-0000066727.txt</td>\n",
       "      <td>[('243', 'F/g'), ('715', 'F/g')]</td>\n",
       "      <td>NaN</td>\n",
       "      <td>NaN</td>\n",
       "      <td>NaN</td>\n",
       "      <td>NaN</td>\n",
       "      <td>NaN</td>\n",
       "      <td>NaN</td>\n",
       "    </tr>\n",
       "    <tr>\n",
       "      <th>1</th>\n",
       "      <td>2-s2.0-0000286813.txt</td>\n",
       "      <td>NaN</td>\n",
       "      <td>NaN</td>\n",
       "      <td>NaN</td>\n",
       "      <td>NaN</td>\n",
       "      <td>NaN</td>\n",
       "      <td>NaN</td>\n",
       "      <td>[('000', 'cycles')]</td>\n",
       "    </tr>\n",
       "    <tr>\n",
       "      <th>2</th>\n",
       "      <td>2-s2.0-0000301004.txt</td>\n",
       "      <td>NaN</td>\n",
       "      <td>NaN</td>\n",
       "      <td>NaN</td>\n",
       "      <td>NaN</td>\n",
       "      <td>NaN</td>\n",
       "      <td>NaN</td>\n",
       "      <td>NaN</td>\n",
       "    </tr>\n",
       "    <tr>\n",
       "      <th>3</th>\n",
       "      <td>2-s2.0-0000370847.txt</td>\n",
       "      <td>NaN</td>\n",
       "      <td>NaN</td>\n",
       "      <td>[('55', 'Wh/kg'), ('42', 'Wh/kg'), ('30', 'Wh/...</td>\n",
       "      <td>[('11', 'kW/kg'), ('9', 'kW/kg')]</td>\n",
       "      <td>NaN</td>\n",
       "      <td>NaN</td>\n",
       "      <td>[('1000', 'cycles'), ('60', 'cycles'), ('1800'...</td>\n",
       "    </tr>\n",
       "    <tr>\n",
       "      <th>4</th>\n",
       "      <td>2-s2.0-0000662429.txt</td>\n",
       "      <td>NaN</td>\n",
       "      <td>NaN</td>\n",
       "      <td>NaN</td>\n",
       "      <td>NaN</td>\n",
       "      <td>[('2', 'V')]</td>\n",
       "      <td>NaN</td>\n",
       "      <td>[('500', 'cycles')]</td>\n",
       "    </tr>\n",
       "  </tbody>\n",
       "</table>\n",
       "</div>"
      ],
      "text/plain": [
       "                     EID              Specific Capacitance Surface Area   \n",
       "0  2-s2.0-0000066727.txt  [('243', 'F/g'), ('715', 'F/g')]          NaN  \\\n",
       "1  2-s2.0-0000286813.txt                               NaN          NaN   \n",
       "2  2-s2.0-0000301004.txt                               NaN          NaN   \n",
       "3  2-s2.0-0000370847.txt                               NaN          NaN   \n",
       "4  2-s2.0-0000662429.txt                               NaN          NaN   \n",
       "\n",
       "                                      Energy Density   \n",
       "0                                                NaN  \\\n",
       "1                                                NaN   \n",
       "2                                                NaN   \n",
       "3  [('55', 'Wh/kg'), ('42', 'Wh/kg'), ('30', 'Wh/...   \n",
       "4                                                NaN   \n",
       "\n",
       "                       Power Density       Voltage Current Density   \n",
       "0                                NaN           NaN             NaN  \\\n",
       "1                                NaN           NaN             NaN   \n",
       "2                                NaN           NaN             NaN   \n",
       "3  [('11', 'kW/kg'), ('9', 'kW/kg')]           NaN             NaN   \n",
       "4                                NaN  [('2', 'V')]             NaN   \n",
       "\n",
       "                                              Cycles  \n",
       "0                                                NaN  \n",
       "1                                [('000', 'cycles')]  \n",
       "2                                                NaN  \n",
       "3  [('1000', 'cycles'), ('60', 'cycles'), ('1800'...  \n",
       "4                                [('500', 'cycles')]  "
      ]
     },
     "execution_count": 3,
     "metadata": {},
     "output_type": "execute_result"
    }
   ],
   "source": [
    "df.head()"
   ]
  },
  {
   "cell_type": "code",
   "execution_count": 5,
   "id": "0b9a67d7-4249-4c71-bf17-100e3a68c34e",
   "metadata": {},
   "outputs": [
    {
     "name": "stdout",
     "output_type": "stream",
     "text": [
      "<class 'pandas.core.frame.DataFrame'>\n",
      "RangeIndex: 52185 entries, 0 to 52184\n",
      "Data columns (total 8 columns):\n",
      " #   Column                Non-Null Count  Dtype \n",
      "---  ------                --------------  ----- \n",
      " 0   EID                   52185 non-null  object\n",
      " 1   Specific Capacitance  14949 non-null  object\n",
      " 2   Surface Area          1933 non-null   object\n",
      " 3   Energy Density        1886 non-null   object\n",
      " 4   Power Density         1754 non-null   object\n",
      " 5   Voltage               6309 non-null   object\n",
      " 6   Current Density       662 non-null    object\n",
      " 7   Cycles                16831 non-null  object\n",
      "dtypes: object(8)\n",
      "memory usage: 3.2+ MB\n"
     ]
    }
   ],
   "source": [
    "df.info()"
   ]
  },
  {
   "cell_type": "code",
   "execution_count": null,
   "id": "936f6362-42da-4d26-b722-dc40fef3db9c",
   "metadata": {},
   "outputs": [],
   "source": []
  }
 ],
 "metadata": {
  "kernelspec": {
   "display_name": "Python 3 (ipykernel)",
   "language": "python",
   "name": "python3"
  },
  "language_info": {
   "codemirror_mode": {
    "name": "ipython",
    "version": 3
   },
   "file_extension": ".py",
   "mimetype": "text/x-python",
   "name": "python",
   "nbconvert_exporter": "python",
   "pygments_lexer": "ipython3",
   "version": "3.10.10"
  }
 },
 "nbformat": 4,
 "nbformat_minor": 5
}
