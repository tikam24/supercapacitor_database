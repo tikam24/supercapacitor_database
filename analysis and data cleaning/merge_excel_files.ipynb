{
 "cells": [
  {
   "cell_type": "code",
   "execution_count": 3,
   "id": "087d5195-c17d-497a-81b6-0c78b46774a2",
   "metadata": {},
   "outputs": [],
   "source": [
    "import pandas as pd\n",
    "import matplotlib.pyplot as plt\n",
    "import ast"
   ]
  },
  {
   "cell_type": "code",
   "execution_count": 2,
   "id": "9a61b638-65b1-494c-8b13-fe6f6a4f8f59",
   "metadata": {},
   "outputs": [
    {
     "data": {
      "text/plain": [
       "(52185, 8)"
      ]
     },
     "execution_count": 2,
     "metadata": {},
     "output_type": "execute_result"
    }
   ],
   "source": [
    "df = pd.read_excel(\"properties.xlsx\")\n",
    "df.shape"
   ]
  },
  {
   "cell_type": "code",
   "execution_count": 1,
   "id": "52318f50-b834-490d-a6f3-8017f91163f6",
   "metadata": {},
   "outputs": [],
   "source": [
    "# df.head()"
   ]
  },
  {
   "cell_type": "code",
   "execution_count": 2,
   "id": "0b9a67d7-4249-4c71-bf17-100e3a68c34e",
   "metadata": {},
   "outputs": [],
   "source": [
    "# df.info()"
   ]
  },
  {
   "cell_type": "code",
   "execution_count": 5,
   "id": "936f6362-42da-4d26-b722-dc40fef3db9c",
   "metadata": {},
   "outputs": [],
   "source": [
    "df['EID'] = df['EID'].str[:-4]"
   ]
  },
  {
   "cell_type": "code",
   "execution_count": 7,
   "id": "f7ead2a1-db18-44dc-a49f-ab35f487035e",
   "metadata": {},
   "outputs": [],
   "source": [
    "df.to_excel('properties1.xlsx', index=False)"
   ]
  },
  {
   "cell_type": "markdown",
   "id": "5d76eae1-0c7d-4edc-b62a-15f4fb32f4ba",
   "metadata": {},
   "source": [
    "### Code to merge many excel files with similar column"
   ]
  },
  {
   "cell_type": "code",
   "execution_count": 4,
   "id": "283d21e1-67d9-4707-aa80-8f5d17fe37c6",
   "metadata": {},
   "outputs": [],
   "source": [
    "# List of Excel file names to merge\n",
    "file_names = ['abstracts_metadata_final.xlsx', 'battery_bert_anode.xlsx', 'battery_bert_cathode.xlsx','battery_bert_electrolyte.xlsx','prop_final.xlsx']\n",
    "\n",
    "# Common column name\n",
    "common_column = 'EID'"
   ]
  },
  {
   "cell_type": "code",
   "execution_count": 5,
   "id": "08171d80-057e-4348-9a77-a9196b5698c8",
   "metadata": {},
   "outputs": [],
   "source": [
    "# Read the first file into merged_data\n",
    "merged_data = pd.read_excel(file_names[0])\n",
    "\n",
    "# Loop through the remaining files and merge them using the common column\n",
    "for file_name in file_names[1:]:\n",
    "    df = pd.read_excel(file_name)\n",
    "    merged_data = pd.merge(merged_data, df, on=common_column, how='inner')\n",
    "\n",
    "# Save the merged data to a new Excel file\n",
    "merged_data.to_excel('merged_file.xlsx', index=False)"
   ]
  },
  {
   "cell_type": "code",
   "execution_count": null,
   "id": "43137259-68f5-4f04-8adf-1d64d617b719",
   "metadata": {},
   "outputs": [],
   "source": []
  }
 ],
 "metadata": {
  "kernelspec": {
   "display_name": "Python 3 (ipykernel)",
   "language": "python",
   "name": "python3"
  },
  "language_info": {
   "codemirror_mode": {
    "name": "ipython",
    "version": 3
   },
   "file_extension": ".py",
   "mimetype": "text/x-python",
   "name": "python",
   "nbconvert_exporter": "python",
   "pygments_lexer": "ipython3",
   "version": "3.10.10"
  }
 },
 "nbformat": 4,
 "nbformat_minor": 5
}
