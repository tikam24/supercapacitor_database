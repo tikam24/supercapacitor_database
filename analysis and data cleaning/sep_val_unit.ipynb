{
 "cells": [
  {
   "cell_type": "code",
   "execution_count": 2,
   "id": "bd343406-fbf3-460b-adc5-c35c5f3fb5f5",
   "metadata": {},
   "outputs": [],
   "source": [
    "import pandas as pd\n",
    "import matplotlib.pyplot as plt\n",
    "import ast"
   ]
  },
  {
   "cell_type": "code",
   "execution_count": 3,
   "id": "272d67d1-1448-44d7-b77d-72ecc813c9bf",
   "metadata": {},
   "outputs": [],
   "source": [
    "df = pd.read_excel(\"prop1.xlsx\") # read excel file\n",
    "# df.head()"
   ]
  },
  {
   "cell_type": "code",
   "execution_count": 4,
   "id": "ddc0a884-97dd-471e-8e35-5fc4168cef0b",
   "metadata": {},
   "outputs": [],
   "source": [
    "df = df.apply(lambda x: x.str.replace(r'\\[|\\]|\\'', '', regex=True))"
   ]
  },
  {
   "cell_type": "code",
   "execution_count": 5,
   "id": "79928aa5-122e-4cbb-a298-18c7e7f12162",
   "metadata": {},
   "outputs": [],
   "source": [
    "df.head()\n",
    "df.to_excel('prop2.xlsx', index=False)"
   ]
  },
  {
   "cell_type": "code",
   "execution_count": 11,
   "id": "4f6995e4-f5c0-4fdd-ad64-fbd84c01c020",
   "metadata": {},
   "outputs": [],
   "source": [
    "# functions to convert any string to literals, seprating numbers and units\n",
    "def convert_string(x):\n",
    "    if not pd.isna(x):\n",
    "        y = ast.literal_eval(str(x))\n",
    "        return y\n",
    "    else:\n",
    "        return None\n",
    "\n",
    "def find_num(x):\n",
    "    num = []\n",
    "    if x != None: \n",
    "        for i in x:\n",
    "           i = ast.literal_eval(str(i))\n",
    "           num.append(i[0])\n",
    "        return list(num)\n",
    "    else:\n",
    "        return None\n",
    "\n",
    "\n",
    "def find_unit(x):\n",
    "    uni = []\n",
    "    if x != None:\n",
    "        for i in x:\n",
    "            i = ast.literal_eval(str(i))\n",
    "            uni.append(i[1])\n",
    "        return list(uni)\n",
    "    else:\n",
    "        return None"
   ]
  },
  {
   "cell_type": "code",
   "execution_count": 12,
   "id": "22625701-4041-4859-92bc-5217c0d15350",
   "metadata": {},
   "outputs": [
    {
     "data": {
      "text/html": [
       "<div>\n",
       "<style scoped>\n",
       "    .dataframe tbody tr th:only-of-type {\n",
       "        vertical-align: middle;\n",
       "    }\n",
       "\n",
       "    .dataframe tbody tr th {\n",
       "        vertical-align: top;\n",
       "    }\n",
       "\n",
       "    .dataframe thead th {\n",
       "        text-align: right;\n",
       "    }\n",
       "</style>\n",
       "<table border=\"1\" class=\"dataframe\">\n",
       "  <thead>\n",
       "    <tr style=\"text-align: right;\">\n",
       "      <th></th>\n",
       "      <th>EID</th>\n",
       "      <th>Specific Capacitance</th>\n",
       "      <th>Surface Area</th>\n",
       "      <th>Energy Density</th>\n",
       "      <th>Power Density</th>\n",
       "      <th>Voltage</th>\n",
       "      <th>Current Density</th>\n",
       "      <th>Cycles</th>\n",
       "    </tr>\n",
       "  </thead>\n",
       "  <tbody>\n",
       "    <tr>\n",
       "      <th>0</th>\n",
       "      <td>2-s2.0-0000066727.txt</td>\n",
       "      <td>[(243, F/g), (715, F/g)]</td>\n",
       "      <td>None</td>\n",
       "      <td>None</td>\n",
       "      <td>None</td>\n",
       "      <td>None</td>\n",
       "      <td>None</td>\n",
       "      <td>None</td>\n",
       "    </tr>\n",
       "    <tr>\n",
       "      <th>1</th>\n",
       "      <td>2-s2.0-0000286813.txt</td>\n",
       "      <td>None</td>\n",
       "      <td>None</td>\n",
       "      <td>None</td>\n",
       "      <td>None</td>\n",
       "      <td>None</td>\n",
       "      <td>None</td>\n",
       "      <td>[(000, cycles)]</td>\n",
       "    </tr>\n",
       "    <tr>\n",
       "      <th>2</th>\n",
       "      <td>2-s2.0-0000301004.txt</td>\n",
       "      <td>None</td>\n",
       "      <td>None</td>\n",
       "      <td>None</td>\n",
       "      <td>None</td>\n",
       "      <td>None</td>\n",
       "      <td>None</td>\n",
       "      <td>None</td>\n",
       "    </tr>\n",
       "    <tr>\n",
       "      <th>3</th>\n",
       "      <td>2-s2.0-0000370847.txt</td>\n",
       "      <td>None</td>\n",
       "      <td>None</td>\n",
       "      <td>[(55, Wh/kg), (42, Wh/kg), (30, Wh/kg)]</td>\n",
       "      <td>[(11, kW/kg), (9, kW/kg)]</td>\n",
       "      <td>None</td>\n",
       "      <td>None</td>\n",
       "      <td>[(1000, cycles), (60, cycles), (1800, cycles)]</td>\n",
       "    </tr>\n",
       "    <tr>\n",
       "      <th>4</th>\n",
       "      <td>2-s2.0-0000662429.txt</td>\n",
       "      <td>None</td>\n",
       "      <td>None</td>\n",
       "      <td>None</td>\n",
       "      <td>None</td>\n",
       "      <td>[(2, V)]</td>\n",
       "      <td>None</td>\n",
       "      <td>[(500, cycles)]</td>\n",
       "    </tr>\n",
       "  </tbody>\n",
       "</table>\n",
       "</div>"
      ],
      "text/plain": [
       "                     EID      Specific Capacitance Surface Area   \n",
       "0  2-s2.0-0000066727.txt  [(243, F/g), (715, F/g)]         None  \\\n",
       "1  2-s2.0-0000286813.txt                      None         None   \n",
       "2  2-s2.0-0000301004.txt                      None         None   \n",
       "3  2-s2.0-0000370847.txt                      None         None   \n",
       "4  2-s2.0-0000662429.txt                      None         None   \n",
       "\n",
       "                            Energy Density              Power Density   \n",
       "0                                     None                       None  \\\n",
       "1                                     None                       None   \n",
       "2                                     None                       None   \n",
       "3  [(55, Wh/kg), (42, Wh/kg), (30, Wh/kg)]  [(11, kW/kg), (9, kW/kg)]   \n",
       "4                                     None                       None   \n",
       "\n",
       "    Voltage Current Density                                          Cycles  \n",
       "0      None            None                                            None  \n",
       "1      None            None                                 [(000, cycles)]  \n",
       "2      None            None                                            None  \n",
       "3      None            None  [(1000, cycles), (60, cycles), (1800, cycles)]  \n",
       "4  [(2, V)]            None                                 [(500, cycles)]  "
      ]
     },
     "execution_count": 12,
     "metadata": {},
     "output_type": "execute_result"
    }
   ],
   "source": [
    "for i in ['Specific Capacitance','Surface Area','Energy Density','Power Density','Voltage','Current Density','Cycles']:\n",
    "    df[i] = df[i].apply(convert_string)\n",
    "df.head()"
   ]
  },
  {
   "cell_type": "code",
   "execution_count": 13,
   "id": "f539d370-2e46-4080-a490-a50f59e34739",
   "metadata": {},
   "outputs": [],
   "source": [
    "df['Specific Capacitance Value'] = df['Specific Capacitance'].apply(find_num)\n",
    "df['Specific Capacitance Unit'] = df['Specific Capacitance'].apply(find_unit)\n",
    "\n",
    "df['Surface Area Value'] = df['Surface Area'].apply(find_num)\n",
    "df['Surface Area Unit'] = df['Surface Area'].apply(find_unit)\n",
    "\n",
    "df['Energy Density Value'] = df['Energy Density'].apply(find_num)\n",
    "df['Energy Density Unit'] = df['Energy Density'].apply(find_unit)\n",
    "\n",
    "df['Power Density Value'] = df['Power Density'].apply(find_num)\n",
    "df['Power Density Unit'] = df['Power Density'].apply(find_unit)\n",
    "\n",
    "df['Voltage Value'] = df['Voltage'].apply(find_num)\n",
    "df['Voltage Unit'] = df['Voltage'].apply(find_unit)\n",
    "\n",
    "df['Current Density Value'] = df['Current Density'].apply(find_num)\n",
    "df['Current Density Unit'] = df['Current Density'].apply(find_unit)\n",
    "\n",
    "df['Cycles Value'] = df['Cycles'].apply(find_num)\n",
    "df['Cycles Unit'] = df['Cycles'].apply(find_unit)"
   ]
  },
  {
   "cell_type": "code",
   "execution_count": 14,
   "id": "f469df0f-0e64-49fc-94a5-dafccba2544b",
   "metadata": {},
   "outputs": [],
   "source": [
    "df.head()\n",
    "df.to_excel('prop1.xlsx', index=False)"
   ]
  },
  {
   "cell_type": "code",
   "execution_count": 7,
   "id": "fce947ff-85ba-4d70-87b9-e5a48fe627d5",
   "metadata": {},
   "outputs": [
    {
     "name": "stdout",
     "output_type": "stream",
     "text": [
      "(243, 'F/g')\n",
      "(715, 'C/g')\n"
     ]
    }
   ],
   "source": [
    "res = \"[(243, 'F/g'), (715, 'C/g')]\"\n",
    "\n",
    "res2 = convert_string(res)\n",
    "\n",
    "for i in res2:\n",
    "    print(i)\n",
    "\n",
    "# # Call the methods on the instance\n",
    "# result1 = find_num(res2)\n",
    "# result2 = find_unit(res2)\n",
    "# print(\"Result of method1:\", result1)\n",
    "# print(\"Result of method2:\", result2)\n",
    "# print(res2)"
   ]
  },
  {
   "cell_type": "code",
   "execution_count": null,
   "id": "30b765c8-6606-49c7-b899-6273e735db73",
   "metadata": {},
   "outputs": [],
   "source": []
  },
  {
   "cell_type": "code",
   "execution_count": null,
   "id": "978a7146-af3a-4be8-9a5c-776a0c7e6a96",
   "metadata": {},
   "outputs": [],
   "source": []
  }
 ],
 "metadata": {
  "kernelspec": {
   "display_name": "Python 3 (ipykernel)",
   "language": "python",
   "name": "python3"
  },
  "language_info": {
   "codemirror_mode": {
    "name": "ipython",
    "version": 3
   },
   "file_extension": ".py",
   "mimetype": "text/x-python",
   "name": "python",
   "nbconvert_exporter": "python",
   "pygments_lexer": "ipython3",
   "version": "3.10.10"
  }
 },
 "nbformat": 4,
 "nbformat_minor": 5
}
